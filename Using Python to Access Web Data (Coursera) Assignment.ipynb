{
  "nbformat": 4,
  "nbformat_minor": 0,
  "metadata": {
    "colab": {
      "name": "Assignment.ipynb",
      "provenance": [],
      "collapsed_sections": [],
      "authorship_tag": "ABX9TyMvDwstRr78iFogm6/mJEiy",
      "include_colab_link": true
    },
    "kernelspec": {
      "name": "python3",
      "display_name": "Python 3"
    },
    "language_info": {
      "name": "python"
    }
  },
  "cells": [
    {
      "cell_type": "markdown",
      "metadata": {
        "id": "view-in-github",
        "colab_type": "text"
      },
      "source": [
        "<a href=\"https://colab.research.google.com/github/HadiAnik/pyhton-code/blob/main/Using%20Python%20to%20Access%20Web%20Data%20(Coursera)%20Assignment.ipynb\" target=\"_parent\"><img src=\"https://colab.research.google.com/assets/colab-badge.svg\" alt=\"Open In Colab\"/></a>"
      ]
    },
    {
      "cell_type": "code",
      "execution_count": null,
      "metadata": {
        "id": "Vuww4XSHvSbd"
      },
      "outputs": [],
      "source": [
        "## 2  Using Python to Access Web Data-----   Finding Numbers in a Haystack"
      ]
    },
    {
      "cell_type": "code",
      "source": [
        "import re \n",
        "fname = open(\"regex_sum_1368644.txt\")\n",
        "sum = 0\n",
        "count = 0\n",
        "for line in fname:\n",
        "  f=re.findall('[0-9]+',line)\n",
        "  for num in f:\n",
        "    count+=1\n",
        "    sum=sum+(int(num))\n",
        "print (\"There are\", count, \"value with a sum of \", sum)"
      ],
      "metadata": {
        "colab": {
          "base_uri": "https://localhost:8080/"
        },
        "id": "kUfOMhcEvZBf",
        "outputId": "b01d0bad-fe37-41ea-e17b-3badf3683858"
      },
      "execution_count": null,
      "outputs": [
        {
          "output_type": "stream",
          "name": "stdout",
          "text": [
            "There are 99 value with a sum of  515319\n"
          ]
        }
      ]
    },
    {
      "cell_type": "code",
      "source": [
        ""
      ],
      "metadata": {
        "id": "fJR4FB8sChnj"
      },
      "execution_count": null,
      "outputs": []
    },
    {
      "cell_type": "code",
      "source": [
        ""
      ],
      "metadata": {
        "id": "FH5FW5amDMeb"
      },
      "execution_count": null,
      "outputs": []
    },
    {
      "cell_type": "code",
      "source": [
        ""
      ],
      "metadata": {
        "id": "yu9YXO2IDMOc"
      },
      "execution_count": null,
      "outputs": []
    },
    {
      "cell_type": "code",
      "source": [
        "## 3 Using Python to Access Web Data------------ Exploring the HyperText Transport Protocol"
      ],
      "metadata": {
        "id": "sHqDJNa1w-oe"
      },
      "execution_count": null,
      "outputs": []
    },
    {
      "cell_type": "code",
      "source": [
        "import socket\n",
        "mysock = socket.socket(socket.AF_INET, socket.SOCK_STREAM)\n",
        "mysock.connect(('data.pr4e.org', 80))"
      ],
      "metadata": {
        "id": "o3AR58Q8x9v5"
      },
      "execution_count": null,
      "outputs": []
    },
    {
      "cell_type": "code",
      "source": [
        "cmd = 'GET http://data.pr4e.org/intro-short.txt HTTP/1.0\\r\\n\\r\\n'.encode()\n",
        "mysock.send(cmd)"
      ],
      "metadata": {
        "colab": {
          "base_uri": "https://localhost:8080/"
        },
        "id": "kYkz2kbo1gHq",
        "outputId": "808dc021-4b65-4c5b-c906-97199a2b24a8"
      },
      "execution_count": null,
      "outputs": [
        {
          "output_type": "execute_result",
          "data": {
            "text/plain": [
              "53"
            ]
          },
          "metadata": {},
          "execution_count": 24
        }
      ]
    },
    {
      "cell_type": "code",
      "source": [
        "while True:\n",
        "    data = mysock.recv(512)\n",
        "    if (len(data) < 1):\n",
        "        break\n",
        "    print(data.decode())\n",
        "mysock.close()"
      ],
      "metadata": {
        "colab": {
          "base_uri": "https://localhost:8080/"
        },
        "id": "XybMP-Hi1tVZ",
        "outputId": "56e38658-bcb9-4037-e640-f3347026eb7f"
      },
      "execution_count": null,
      "outputs": [
        {
          "output_type": "stream",
          "name": "stdout",
          "text": [
            "HTTP/1.1 200 OK\r\n",
            "Date: Wed, 20 Apr 2022 11:58:42 GMT\r\n",
            "Server: Apache/2.4.18 (Ubuntu)\r\n",
            "Last-Modified: Sat, 13 May 2017 11:22:22 GMT\r\n",
            "ETag: \"1d3-54f6609240717\"\r\n",
            "Accept-Ranges: bytes\r\n",
            "Content-Length: 467\r\n",
            "Cache-Control: max-age=0, no-cache, no-store, must-revalidate\r\n",
            "Pragma: no-cache\r\n",
            "Expires: Wed, 11 Jan 1984 05:00:00 GMT\r\n",
            "Connection: close\r\n",
            "Content-Type: text/plain\r\n",
            "\r\n",
            "Why should you learn to write programs?\n",
            "\n",
            "Writing programs (or programming) is a very creative \n",
            "and rewarding activity.  You can write programs\n",
            " for \n",
            "many reasons, ranging from making your living to solving\n",
            "a difficult data analysis problem to having fun to helping\n",
            "someone else solve a problem.  This book assumes that \n",
            "everyone needs to know how to program, and that once \n",
            "you know how to program you will figure out what you want \n",
            "to do with your newfound skills.  \n",
            "\n"
          ]
        }
      ]
    },
    {
      "cell_type": "code",
      "source": [
        "## Assuming 4.1  Using Python to Access Web Data---- Scraping Numbers from HTML using BeautifulSoup"
      ],
      "metadata": {
        "id": "JgMODHWt1wZW"
      },
      "execution_count": null,
      "outputs": []
    },
    {
      "cell_type": "code",
      "source": [
        "import urllib.request,urllib.parse,urllib.error\n",
        "from bs4 import BeautifulSoup\n",
        "import ssl\n",
        "\n",
        "ctx=ssl.create_default_context()\n",
        "ctx.check_hostname=False\n",
        "ctx.verify_mode=ssl.CERT_NONE"
      ],
      "metadata": {
        "id": "A7mHf-XE6YQl"
      },
      "execution_count": null,
      "outputs": []
    },
    {
      "cell_type": "code",
      "source": [
        "link= \"http://py4e-data.dr-chuck.net/comments_1368646.html\"\n",
        "html=urllib.request.urlopen(link,context=ctx).read()\n",
        "soup=BeautifulSoup(html,'html.parser')"
      ],
      "metadata": {
        "id": "KJfOjXcI62km"
      },
      "execution_count": null,
      "outputs": []
    },
    {
      "cell_type": "code",
      "source": [
        "names = []"
      ],
      "metadata": {
        "id": "TLQTDogW69nh"
      },
      "execution_count": null,
      "outputs": []
    },
    {
      "cell_type": "code",
      "source": [
        "tags=soup('span')\n",
        "s=0\n",
        "c=0\n",
        "for tag in tags:\n",
        "    c+=1\n",
        "    s+=int(tag.contents[0])\n",
        "print (\"count is \", c)\n",
        "print (\"sum is \",s)"
      ],
      "metadata": {
        "colab": {
          "base_uri": "https://localhost:8080/"
        },
        "id": "AtTLVYXVD2DS",
        "outputId": "06554301-a745-4c6e-f3c4-189168f41e0d"
      },
      "execution_count": null,
      "outputs": [
        {
          "output_type": "stream",
          "name": "stdout",
          "text": [
            "count is  50\n",
            "sum is  2385\n"
          ]
        }
      ]
    },
    {
      "cell_type": "code",
      "source": [
        "## 4.2 Using Python to Access Web Data--- Following Links in Python"
      ],
      "metadata": {
        "id": "dQjE3k_pD4Dh"
      },
      "execution_count": null,
      "outputs": []
    },
    {
      "cell_type": "code",
      "source": [
        "import urllib.request,urllib.parse,urllib.error\n",
        "from bs4 import BeautifulSoup\n",
        "import ssl\n",
        "import urllib\n",
        "\n",
        "ctx=ssl.create_default_context()\n",
        "ctx.check_hostname=False\n",
        "ctx.verify_mode=ssl.CERT_NONE"
      ],
      "metadata": {
        "id": "po4jVO2BFqo1"
      },
      "execution_count": null,
      "outputs": []
    },
    {
      "cell_type": "code",
      "source": [
        "link=input(\"Enter URL:\")\n",
        "count=int(input(\"Enter count:\"))\n",
        "pos=int(input(\"Enter position:\"))\n",
        "\n",
        "print (\"Retriving: \",link)\n",
        "for i in range(0,count):\n",
        "    html=urllib.request.urlopen(link).read()\n",
        "    soup=BeautifulSoup(html)\n",
        "    tags=soup('a')\n",
        "    \n",
        "    link=tags[pos-1].get('href')\n",
        "\n",
        "result=tags[pos-1].contents[0]\n",
        "print (result)"
      ],
      "metadata": {
        "colab": {
          "base_uri": "https://localhost:8080/"
        },
        "id": "6L_esrb0FrVI",
        "outputId": "de3bc9c8-c732-41f7-9dd2-65451ead5e11"
      },
      "execution_count": null,
      "outputs": [
        {
          "output_type": "stream",
          "name": "stdout",
          "text": [
            "Enter URL:http://py4e-data.dr-chuck.net/known_by_Ubaid.html\n",
            "Enter count:7\n",
            "Enter position:18\n",
            "Retriving:  http://py4e-data.dr-chuck.net/known_by_Ubaid.html\n",
            "Zaaine\n"
          ]
        }
      ]
    },
    {
      "cell_type": "code",
      "source": [
        ""
      ],
      "metadata": {
        "id": "fN0w0awYFuUS"
      },
      "execution_count": null,
      "outputs": []
    },
    {
      "cell_type": "code",
      "source": [
        ""
      ],
      "metadata": {
        "id": "TMoXOJQEKOek"
      },
      "execution_count": null,
      "outputs": []
    },
    {
      "cell_type": "code",
      "source": [
        "## 5 Using Python to Access Web Data ---Extracting Data from XML"
      ],
      "metadata": {
        "id": "4Au3Dk5PKOiB"
      },
      "execution_count": null,
      "outputs": []
    },
    {
      "cell_type": "code",
      "source": [
        "import urllib\n",
        "import json\n",
        "import xml.etree.ElementTree as ET\n",
        "url=input(\"Enter Url\")\n",
        "u=urllib.request.urlopen(url)\n",
        "data=u.read()\n",
        "xml_data=ET.fromstring(data)\n",
        "search_str=\"comments/comment\"\n",
        "count_tags=xml_data.findall(search_str)\n",
        "\n",
        "total=0\n",
        "for tags in count_tags:\n",
        "    c=tags.find('count')\n",
        "    total+=int(c.text)\n",
        "    \n",
        "print(\"Sum: \", total)"
      ],
      "metadata": {
        "colab": {
          "base_uri": "https://localhost:8080/"
        },
        "id": "CLuS6FPDKXvm",
        "outputId": "02398402-45a0-484b-869a-97eb4c09f6f1"
      },
      "execution_count": null,
      "outputs": [
        {
          "output_type": "stream",
          "name": "stdout",
          "text": [
            "Enter Url http://py4e-data.dr-chuck.net/comments_1368648.xml\n",
            "Sum:  2278\n"
          ]
        }
      ]
    },
    {
      "cell_type": "code",
      "source": [
        ""
      ],
      "metadata": {
        "id": "P2J8ekKiKeg0"
      },
      "execution_count": null,
      "outputs": []
    },
    {
      "cell_type": "code",
      "source": [
        ""
      ],
      "metadata": {
        "id": "Kc4grQgTLDN1"
      },
      "execution_count": null,
      "outputs": []
    },
    {
      "cell_type": "code",
      "source": [
        "## 6 Using Python to Access Web Data--  Extracting Data from JSON"
      ],
      "metadata": {
        "id": "OOvWiHdwLCwH"
      },
      "execution_count": null,
      "outputs": []
    },
    {
      "cell_type": "code",
      "source": [
        "import urllib\n",
        "import json\n",
        "url=input(\"Enter Url\")\n",
        "u=urllib.request.urlopen(url)\n",
        "dat=u.read()\n",
        "data=json.loads(dat)\n",
        "\n",
        "total=0\n",
        "for tags in data['comments']:\n",
        "    total+=tags[\"count\"]\n",
        "print(\"Sum: \", total)"
      ],
      "metadata": {
        "colab": {
          "base_uri": "https://localhost:8080/"
        },
        "id": "tJDIbcHYLFKY",
        "outputId": "928d4437-4617-4b67-8f93-b93917fe2cb5"
      },
      "execution_count": null,
      "outputs": [
        {
          "output_type": "stream",
          "name": "stdout",
          "text": [
            "Enter Url http://py4e-data.dr-chuck.net/comments_1368649.json\n",
            "Sum:  2489\n"
          ]
        }
      ]
    },
    {
      "cell_type": "code",
      "source": [
        ""
      ],
      "metadata": {
        "id": "8GJvaxU6LSuR"
      },
      "execution_count": null,
      "outputs": []
    },
    {
      "cell_type": "code",
      "source": [
        ""
      ],
      "metadata": {
        "id": "qUayATObMXXN"
      },
      "execution_count": null,
      "outputs": []
    },
    {
      "cell_type": "code",
      "source": [
        "## 6.2 Using Python to Access Web Data ---Calling a JSON API"
      ],
      "metadata": {
        "id": "euS6qYc7MXGc"
      },
      "execution_count": null,
      "outputs": []
    },
    {
      "cell_type": "code",
      "source": [
        "import urllib.request, urllib.parse, urllib.error\n",
        "import json\n",
        "import ssl\n",
        "\n",
        "api_key = False\n",
        "# If you have a Google Places API key, enter it here\n",
        "# api_key = 'AIzaSy___IDByT70'\n",
        "# https://developers.google.com/maps/documentation/geocoding/intro\n",
        "\n",
        "if api_key is False:\n",
        "    api_key = 42\n",
        "    serviceurl = 'http://py4e-data.dr-chuck.net/json?'\n",
        "else :\n",
        "    serviceurl = 'https://maps.googleapis.com/maps/api/geocode/json?'\n",
        "\n",
        "# Ignore SSL certificate errors\n",
        "ctx = ssl.create_default_context()\n",
        "ctx.check_hostname = False\n",
        "ctx.verify_mode = ssl.CERT_NONE\n",
        "\n",
        "while True:\n",
        "    address = input('Enter location: ')\n",
        "    if len(address) < 1: break\n",
        "\n",
        "    parms = dict()\n",
        "    parms['address'] = address\n",
        "    if api_key is not False: parms['key'] = api_key\n",
        "    url = serviceurl + urllib.parse.urlencode(parms)\n",
        "\n",
        "    print('Retrieving', url)\n",
        "    uh = urllib.request.urlopen(url, context=ctx)\n",
        "    data = uh.read().decode()\n",
        "    print('Retrieved', len(data), 'characters')\n",
        "\n",
        "    try:\n",
        "        js = json.loads(data)\n",
        "    except:\n",
        "        js = None\n",
        "\n",
        "    if not js or 'status' not in js or js['status'] != 'OK':\n",
        "        print('==== Failure To Retrieve ====')\n",
        "        print(data)\n",
        "        continue\n",
        "\n",
        "    print(json.dumps(js, indent=4))\n",
        "\n",
        "    lat = js['results'][0]['geometry']['location']['lat']\n",
        "    lng = js['results'][0]['geometry']['location']['lng']\n",
        "    print('lat', lat, 'lng', lng)\n",
        "    location = js['results'][0]['formatted_address']\n",
        "    print(location)"
      ],
      "metadata": {
        "colab": {
          "base_uri": "https://localhost:8080/"
        },
        "id": "yNgeXmV9MZEz",
        "outputId": "9615383d-2353-42ca-b171-c823bc3a599d"
      },
      "execution_count": null,
      "outputs": [
        {
          "name": "stdout",
          "output_type": "stream",
          "text": [
            "Enter location: Lviv University\n",
            "Retrieving http://py4e-data.dr-chuck.net/json?address=Lviv+University&key=42\n",
            "Retrieved 1901 characters\n",
            "{\n",
            "    \"results\": [\n",
            "        {\n",
            "            \"address_components\": [\n",
            "                {\n",
            "                    \"long_name\": \"Lviv\",\n",
            "                    \"short_name\": \"Lviv\",\n",
            "                    \"types\": [\n",
            "                        \"locality\",\n",
            "                        \"political\"\n",
            "                    ]\n",
            "                },\n",
            "                {\n",
            "                    \"long_name\": \"L'vivs'ka city council\",\n",
            "                    \"short_name\": \"L'vivs'ka city council\",\n",
            "                    \"types\": [\n",
            "                        \"administrative_area_level_3\",\n",
            "                        \"political\"\n",
            "                    ]\n",
            "                },\n",
            "                {\n",
            "                    \"long_name\": \"Lviv Oblast\",\n",
            "                    \"short_name\": \"Lviv Oblast\",\n",
            "                    \"types\": [\n",
            "                        \"administrative_area_level_1\",\n",
            "                        \"political\"\n",
            "                    ]\n",
            "                },\n",
            "                {\n",
            "                    \"long_name\": \"Ukraine\",\n",
            "                    \"short_name\": \"UA\",\n",
            "                    \"types\": [\n",
            "                        \"country\",\n",
            "                        \"political\"\n",
            "                    ]\n",
            "                },\n",
            "                {\n",
            "                    \"long_name\": \"79000\",\n",
            "                    \"short_name\": \"79000\",\n",
            "                    \"types\": [\n",
            "                        \"postal_code\"\n",
            "                    ]\n",
            "                }\n",
            "            ],\n",
            "            \"formatted_address\": \"Lviv, Lviv Oblast, Ukraine, 79000\",\n",
            "            \"geometry\": {\n",
            "                \"bounds\": {\n",
            "                    \"northeast\": {\n",
            "                        \"lat\": 49.897471,\n",
            "                        \"lng\": 24.118191\n",
            "                    },\n",
            "                    \"southwest\": {\n",
            "                        \"lat\": 49.7679071,\n",
            "                        \"lng\": 23.9062801\n",
            "                    }\n",
            "                },\n",
            "                \"location\": {\n",
            "                    \"lat\": 49.839683,\n",
            "                    \"lng\": 24.029717\n",
            "                },\n",
            "                \"location_type\": \"APPROXIMATE\",\n",
            "                \"viewport\": {\n",
            "                    \"northeast\": {\n",
            "                        \"lat\": 49.897471,\n",
            "                        \"lng\": 24.118191\n",
            "                    },\n",
            "                    \"southwest\": {\n",
            "                        \"lat\": 49.7679071,\n",
            "                        \"lng\": 23.9062801\n",
            "                    }\n",
            "                }\n",
            "            },\n",
            "            \"place_id\": \"ChIJV5oQCXzdOkcR4ngjARfFI0I\",\n",
            "            \"types\": [\n",
            "                \"locality\",\n",
            "                \"political\"\n",
            "            ]\n",
            "        }\n",
            "    ],\n",
            "    \"status\": \"OK\"\n",
            "}\n",
            "lat 49.839683 lng 24.029717\n",
            "Lviv, Lviv Oblast, Ukraine, 79000\n",
            "Enter location: \n"
          ]
        }
      ]
    },
    {
      "cell_type": "code",
      "source": [
        ""
      ],
      "metadata": {
        "id": "49JaySNYPxMr"
      },
      "execution_count": null,
      "outputs": []
    }
  ]
}