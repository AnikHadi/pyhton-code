{
  "nbformat": 4,
  "nbformat_minor": 0,
  "metadata": {
    "colab": {
      "name": "Using Databases with Python.ipynb",
      "provenance": [],
      "collapsed_sections": [],
      "authorship_tag": "ABX9TyNR5aQqtQz1qCWCzW4GpOPK",
      "include_colab_link": true
    },
    "kernelspec": {
      "name": "python3",
      "display_name": "Python 3"
    },
    "language_info": {
      "name": "python"
    }
  },
  "cells": [
    {
      "cell_type": "markdown",
      "metadata": {
        "id": "view-in-github",
        "colab_type": "text"
      },
      "source": [
        "<a href=\"https://colab.research.google.com/github/HadiAnik/pyhton-code/blob/main/Using_Databases_with_Python.ipynb\" target=\"_parent\"><img src=\"https://colab.research.google.com/assets/colab-badge.svg\" alt=\"Open In Colab\"/></a>"
      ]
    },
    {
      "cell_type": "markdown",
      "source": [
        "## ***2 Our First Database----- Using Databases with Python***"
      ],
      "metadata": {
        "id": "oPGrIXuzmLIF"
      }
    },
    {
      "cell_type": "code",
      "source": [
        "import sqlite3"
      ],
      "metadata": {
        "id": "9mJsbQyBcFMk"
      },
      "execution_count": 39,
      "outputs": []
    },
    {
      "cell_type": "code",
      "source": [
        "# Create a database in RAM\n",
        "db = sqlite3.connect(':memory:')\n",
        "\n",
        "# Get a cursor object\n",
        "cursor = db.cursor()\n",
        "cursor.execute('''\n",
        "    CREATE TABLE Ages ( \n",
        "  name VARCHAR(128), \n",
        "  age INTEGER\n",
        ")''')\n",
        "\n",
        "\n",
        "cursor.execute('''DELETE FROM Ages''')"
      ],
      "metadata": {
        "colab": {
          "base_uri": "https://localhost:8080/"
        },
        "id": "GF9S9MM_auZD",
        "outputId": "710660ad-d8f8-4476-dd4c-4c10e410f9ab"
      },
      "execution_count": 40,
      "outputs": [
        {
          "output_type": "execute_result",
          "data": {
            "text/plain": [
              "<sqlite3.Cursor at 0x7fd6fee3f1f0>"
            ]
          },
          "metadata": {},
          "execution_count": 40
        }
      ]
    },
    {
      "cell_type": "code",
      "source": [
        "# Insert users\n",
        "cursor.execute('''INSERT INTO Ages (name, age) VALUES ('Bertie', 23)''')\n",
        "cursor.execute('''INSERT INTO Ages (name, age) VALUES ('Tanika', 19)''')\n",
        "cursor.execute('''INSERT INTO Ages (name, age) VALUES ('Brogan', 21)''')\n",
        "cursor.execute('''INSERT INTO Ages (name, age) VALUES ('Meryl', 39)''')\n",
        "\n",
        "#Select user\n",
        "cursor.execute('''SELECT hex(name || age) AS X FROM Ages ORDER BY X''')\n",
        "\n",
        "#retrieve the first row\n",
        "user1 = cursor.fetchone()\n",
        "#Print the first column retrieved(user's name)\n",
        "print(\"The first row in the resulting record set : \"+user1[0])\n",
        "\n",
        "#Commit changes into database\n",
        "db.commit()\n",
        "#Close database\n",
        "db.close()"
      ],
      "metadata": {
        "colab": {
          "base_uri": "https://localhost:8080/"
        },
        "id": "rGNovFgdayEL",
        "outputId": "c097840c-7e5a-47d5-ea57-98251478785e"
      },
      "execution_count": 41,
      "outputs": [
        {
          "output_type": "stream",
          "name": "stdout",
          "text": [
            "The first row in the resulting record set : 4265727469653233\n"
          ]
        }
      ]
    },
    {
      "cell_type": "markdown",
      "source": [
        "## **Complete first Assignment** 😎😍😍"
      ],
      "metadata": {
        "id": "Oet7n30lcjnE"
      }
    },
    {
      "cell_type": "markdown",
      "source": [
        "## **-----------------------------------------------------------------------------------------------------------------**"
      ],
      "metadata": {
        "id": "2aZtltY0pH9I"
      }
    },
    {
      "cell_type": "markdown",
      "source": [
        "## **2nd Assignment  Counting Email in a Database**"
      ],
      "metadata": {
        "id": "0Qy2_3HXmCLa"
      }
    },
    {
      "cell_type": "code",
      "source": [
        "import sqlite3\n",
        "\n",
        "conn = sqlite3.connect('emaildb.sqlite')\n",
        "cur = conn.cursor()\n",
        "\n",
        "cur.execute('''\n",
        "DROP TABLE IF EXISTS Counts''')\n",
        "\n",
        "cur.execute('''\n",
        "CREATE TABLE Counts (org TEXT, count INTEGER)''')\n",
        "\n",
        "fname = input('Enter file name: ')\n",
        "if ( len(fname) < 1 ) : fname = 'mbox.txt'\n",
        "fh = open(fname)\n",
        "for line in fh:\n",
        "    if not line.startswith('From: ') : continue\n",
        "    pieces = line.split()\n",
        "    email = pieces[1]\n",
        "    parts = email.split('@')\n",
        "    org = parts[-1]\n",
        "    cur.execute('SELECT count FROM Counts WHERE org = ? ', (org, ))\n",
        "    row = cur.fetchone()\n",
        "    if row is None:\n",
        "        cur.execute('''INSERT INTO Counts (org, count) \n",
        "                VALUES ( ?, 1 )''', ( org, ) )\n",
        "    else :\n",
        "        cur.execute('UPDATE Counts SET count=count+1 WHERE org = ?',\n",
        "            (org, ))\n",
        "    conn.commit()\n",
        "\n",
        "sqlstr = 'SELECT org, count FROM Counts ORDER BY count DESC LIMIT 10'\n",
        "\n",
        "print\n",
        "print(\"Counts:\")\n",
        "for row in cur.execute(sqlstr) :\n",
        "    print (str(row[0]), row[1])\n",
        "\n",
        "cur.close()"
      ],
      "metadata": {
        "colab": {
          "base_uri": "https://localhost:8080/"
        },
        "id": "zTVM6vgLf3um",
        "outputId": "e4df1355-03b2-4a12-9ec3-22c56574afb8"
      },
      "execution_count": 42,
      "outputs": [
        {
          "output_type": "stream",
          "name": "stdout",
          "text": [
            "Enter file name: mbox.txt\n",
            "Counts:\n",
            "iupui.edu 536\n",
            "umich.edu 491\n",
            "indiana.edu 178\n",
            "caret.cam.ac.uk 157\n",
            "vt.edu 110\n",
            "uct.ac.za 96\n",
            "media.berkeley.edu 56\n",
            "ufp.pt 28\n",
            "gmail.com 25\n",
            "et.gatech.edu 17\n"
          ]
        }
      ]
    },
    {
      "cell_type": "markdown",
      "source": [
        "##  **2nd Part is Completed** 😍😎"
      ],
      "metadata": {
        "id": "Tmf6X-IGlIo6"
      }
    },
    {
      "cell_type": "markdown",
      "source": [
        "## **-----------------------------------------------------------------------------------------------------------------**"
      ],
      "metadata": {
        "id": "ffZuZsjBo28a"
      }
    },
    {
      "cell_type": "markdown",
      "source": [
        "## ***3rd week Examination***"
      ],
      "metadata": {
        "id": "fTTFKU2FoVZ1"
      }
    },
    {
      "cell_type": "code",
      "source": [
        "import sqlite3\n",
        "import xml.etree.ElementTree as ET"
      ],
      "metadata": {
        "id": "uOZUP_xfod_2"
      },
      "execution_count": 51,
      "outputs": []
    },
    {
      "cell_type": "code",
      "source": [
        "#Function that we'll use to find the content of a specific field.\n",
        "def find_field(track, wanted_field):\n",
        "    \"\"\"This function gets two parameters: track, a dictionary containing all\n",
        "    the XML tags of a certain song, and wanted_field, a string representing the\n",
        "    title of the tag we want to obtain.\n",
        "    It works by finding a key tag with the text {wanted_field}, and\n",
        "    returning the content of the following tag. If wanted_field doesn't\n",
        "    match any tag, it returns a False\"\"\"\n",
        "\n",
        "    #Variable we'll use to indicate when we've found wanted_field\n",
        "    found = False\n",
        "\n",
        "    for tag in track:\n",
        "        if not found:\n",
        "            #Looking for the wanted field\n",
        "            if(tag.tag == \"key\" and tag.text == wanted_field):\n",
        "                found = True\n",
        "        else:\n",
        "            #After founding it, we return the content of the following\n",
        "            #tag (the one with its value)\n",
        "            return tag.text\n",
        "\n",
        "    return False\n",
        "\n",
        "\n",
        "\n",
        "#PART 1: PREPARING THE DATABASE\n",
        "#Connecting to the file in which we want to store our db\n",
        "conn = sqlite3.connect('tracks.sqlite')\n",
        "cur = conn.cursor()\n",
        "\n",
        "#Getting sure it is empty\n",
        "#We can use \"executescript\" to execute several statements at the same time\n",
        "cur.executescript(\"\"\"\n",
        "    DROP TABLE IF EXISTS Artist;\n",
        "   \n",
        "    DROP TABLE IF EXISTS Album; \n",
        "    DROP TABLE IF EXISTS Genre;\n",
        "    DROP TABLE IF EXISTS Track\n",
        "    \"\"\")\n",
        "\n",
        "#Creating it\n",
        "cur.executescript(''' CREATE TABLE Artist (\n",
        "    id  INTEGER NOT NULL PRIMARY KEY AUTOINCREMENT UNIQUE,\n",
        "    name    TEXT UNIQUE\n",
        ");\n",
        "CREATE TABLE Genre (\n",
        "    id  INTEGER NOT NULL PRIMARY KEY AUTOINCREMENT UNIQUE,\n",
        "    name    TEXT UNIQUE\n",
        ");\n",
        "CREATE TABLE Album (\n",
        "    id  INTEGER NOT NULL PRIMARY KEY AUTOINCREMENT UNIQUE,\n",
        "    artist_id  INTEGER,\n",
        "    title   TEXT UNIQUE\n",
        ");\n",
        "CREATE TABLE Track (\n",
        "    id  INTEGER NOT NULL PRIMARY KEY \n",
        "        AUTOINCREMENT UNIQUE,\n",
        "    title TEXT  UNIQUE,\n",
        "    album_id  INTEGER,\n",
        "    genre_id  INTEGER,\n",
        "    len INTEGER, rating INTEGER, count INTEGER\n",
        ");\n",
        "''')\n",
        "\n",
        "\n",
        "#PART 2: INSERTING THE DATA\n",
        "#Getting the data and parsing it\n",
        "data_source = open(\"Library.xml\")\n",
        "data = data_source.read()\n",
        "xml_data = ET.fromstring(data)\n",
        "\n",
        "#Obtaining every tag with track data\n",
        "tracks_data = xml_data.findall(\"dict/dict/dict\")\n",
        "\n",
        "#Getting the values of the fields we'll insert\n",
        "for track in tracks_data:\n",
        "    title = find_field(track, \"Name\")\n",
        "    artist = find_field(track, \"Artist\")\n",
        "    genre = find_field(track, \"Genre\")\n",
        "    album = find_field(track, \"Album\")\n",
        "    length = find_field(track, \"Total Time\")\n",
        "    count = find_field(track, \"Play Count\")\n",
        "    rating = find_field(track, \"Rating\")\n",
        "\n",
        "    #Artist\n",
        "    if (artist): #If it's a filled string, != False\n",
        "        #If the value hasn't been introduced yet and exists, we'll insert it\n",
        "        artist_statement = \"\"\"INSERT INTO Artist(name) SELECT ? WHERE NOT EXISTS \n",
        "            (SELECT * FROM Artist WHERE name = ?)\"\"\"\n",
        "        SQLparams = (artist, artist) #Params needed for completing the statement\n",
        "        cur.execute(artist_statement, SQLparams)\n",
        "\n",
        "    #Genre\n",
        "    if (genre): #If it's a filled string, != False\n",
        "        #If the value hasn't been introduced yet and exists, we'll insert it\n",
        "        genre_statement = \"\"\"INSERT INTO Genre(name) SELECT ? WHERE NOT EXISTS \n",
        "            (SELECT * FROM Genre WHERE name = ?)\"\"\"\n",
        "        SQLparams = (genre, genre)\n",
        "        cur.execute(genre_statement, SQLparams)\n",
        "\n",
        "    #Album\n",
        "    if (album): #If it's a filled string, != False\n",
        "        #First of all, we'll get the artist id\n",
        "        artistID_statement = \"SELECT id from Artist WHERE name = ?\"\n",
        "        cur.execute(artistID_statement, (artist, ))\n",
        "        #.fetchone() returns a one-element tuple, and we want its content\n",
        "        artist_id = cur.fetchone()[0]\n",
        "\n",
        "\n",
        "        #Now we're going to insert the data\n",
        "        album_statement = \"\"\"INSERT INTO Album(title, artist_id) \n",
        "            SELECT ?, ? WHERE NOT EXISTS (SELECT * FROM Album WHERE title = ?)\"\"\"\n",
        "        SQLparams = (album, artist_id, album)\n",
        "        cur.execute(album_statement, SQLparams)\n",
        "\n",
        "    #Track\n",
        "    if (title): #If it's a filled string, != False\n",
        "        #Obtaining genre_id\n",
        "        genreID_statement = \"SELECT id from Genre WHERE name = ?\"\n",
        "        cur.execute(genreID_statement, (genre, ))\n",
        "        try:\n",
        "            genre_id = cur.fetchone()[0]\n",
        "        except TypeError:\n",
        "            genre_id = 0\n",
        "        #Obtaining album_id\n",
        "        albumID_statement = \"SELECT id from Album WHERE title = ?\"\n",
        "        cur.execute(albumID_statement, (album, ))\n",
        "        try:\n",
        "            album_id = cur.fetchone()[0]\n",
        "        except TypeError:\n",
        "            album_id = 0\n",
        "\n",
        "        #Inserting data\n",
        "        track_statement = \"\"\"INSERT INTO Track(title, album_id, genre_id, len,\n",
        "            rating, count) SELECT ?, ?, ?, ?, ?, ?\n",
        "                WHERE NOT EXISTS (SELECT * FROM Track WHERE title = ?)\"\"\"\n",
        "        SQLparams = (title, album_id, genre_id, length, rating, count, title)\n",
        "        cur.execute(track_statement, SQLparams)\n",
        "\n",
        "\n",
        "conn.commit()\n",
        "cur.close()"
      ],
      "metadata": {
        "id": "r0Xp93L7px6Q"
      },
      "execution_count": 52,
      "outputs": []
    },
    {
      "cell_type": "markdown",
      "source": [
        "# ***Assignment 3 is completed *** 😍\n"
      ],
      "metadata": {
        "id": "lQ2yP3jas6vN"
      }
    },
    {
      "cell_type": "markdown",
      "source": [
        "## **-----------------------------------------------------------------------------------------------------------------**"
      ],
      "metadata": {
        "id": "9e5zzzL6tWvP"
      }
    },
    {
      "cell_type": "markdown",
      "source": [
        "## ***4rd week Examination***"
      ],
      "metadata": {
        "id": "hHK5cYBPur3p"
      }
    },
    {
      "cell_type": "code",
      "source": [
        "# import json\n",
        "# import sqlite3\n",
        "\n",
        "# #PART 1: Creating the database\n",
        "# dbname = \"roster.sqlite\"\n",
        "# conn = sqlite3.connect(dbname)\n",
        "# cur = conn.cursor()"
      ],
      "metadata": {
        "id": "6e-kv-zesGXD"
      },
      "execution_count": 78,
      "outputs": []
    },
    {
      "cell_type": "code",
      "source": [
        "import json\n",
        "import sqlite3\n",
        "\n",
        "#PART 1: Creating the database\n",
        "dbname = \"roster.sqlite\"\n",
        "conn = sqlite3.connect(dbname)\n",
        "cur = conn.cursor()\n",
        "\n",
        "cur.executescript('''\n",
        "DROP TABLE IF EXISTS User;\n",
        "DROP TABLE IF EXISTS Member;\n",
        "DROP TABLE IF EXISTS Course;\n",
        "\n",
        "CREATE TABLE User (\n",
        "    id     INTEGER NOT NULL PRIMARY KEY AUTOINCREMENT UNIQUE,\n",
        "    name   TEXT UNIQUE\n",
        ");\n",
        "\n",
        "CREATE TABLE Course (\n",
        "    id     INTEGER NOT NULL PRIMARY KEY AUTOINCREMENT UNIQUE,\n",
        "    title  TEXT UNIQUE\n",
        ");\n",
        "\n",
        "CREATE TABLE Member (\n",
        "    user_id     INTEGER,\n",
        "    course_id   INTEGER,\n",
        "    role        INTEGER,\n",
        "    PRIMARY KEY (user_id, course_id)\n",
        ")\n",
        "''')\n",
        "\n",
        "#Note: if we don't add UNIQUE after \"User.name\" and \"Course.title\", \n",
        "#the IGNORE statement won't work and therefore we'll have duplicates\n",
        "\n",
        "\n",
        "#PART 2: DESERIALIZING THE data\n",
        "#The JSON data we're going to process is stored in an array form, with each\n",
        "#item being also an array of three elements: one corresponding to the username \n",
        "#one corresponding to the course name, and one indicating if the user is role\n",
        "#None of them has any field title. \n",
        "\n",
        "fname = \"roster_data.json\"\n",
        "if len(fname) < 1:\n",
        "    fname = 'roster_data_sample.json'\n",
        "\n",
        "# [\n",
        "#   [ \"Charley\", \"si110\", 1 ],\n",
        "#   [ \"Mea\", \"si110\", 0 ],\n",
        "\n",
        "str_data = open(fname).read()\n",
        "json_data = json.loads(str_data)\n",
        "\n",
        "for entry in json_data:\n",
        "\n",
        "    name = entry[0]\n",
        "    title = entry[1]\n",
        "    role = entry[2]\n",
        "\n",
        "    # print(entry)\n",
        "\n",
        "    # print(name ,'|', title ,\"|\", role)\n",
        "\n",
        "    cur.execute('''INSERT OR IGNORE INTO User (name) \n",
        "        VALUES ( ? )''', ( name, ) )\n",
        "    cur.execute('SELECT id FROM User WHERE name = ? ', (name, ))\n",
        "    user_id = cur.fetchone()[0]\n",
        "\n",
        "    cur.execute('''INSERT OR IGNORE INTO Course (title)\n",
        "        VALUES ( ? )''', ( title, ) )\n",
        "    cur.execute('SELECT id FROM Course WHERE title = ? ', (title, ))\n",
        "    course_id = cur.fetchone()[0]\n",
        "\n",
        "    cur.execute('''INSERT OR REPLACE INTO Member\n",
        "        (user_id, course_id, role) VALUES ( ?, ?, ? )''',\n",
        "        ( user_id, course_id, role ) )\n",
        "    \n",
        "    conn.commit()\n",
        "\n",
        "#PART 4: Testing and obtaining the results\n",
        "test_statement = \"\"\"\n",
        "SELECT 'XYZZY' || hex(User.name || Course.title || Member.role ) AS X FROM \n",
        "    User JOIN Member JOIN Course \n",
        "    ON User.id = Member.user_id AND Member.course_id = Course.id\n",
        "    ORDER BY X\"\"\"\n",
        "cur.execute(test_statement)\n",
        "result = cur.fetchone()\n",
        "print(\"The first row in the resulting record set: \", result)\n",
        "\n",
        "#Closing the connection\n",
        "cur.close()\n",
        "conn.close()\n"
      ],
      "metadata": {
        "colab": {
          "base_uri": "https://localhost:8080/"
        },
        "id": "rUnKe-cmIyOj",
        "outputId": "211f6747-8715-4f69-b546-190878d106cc"
      },
      "execution_count": 97,
      "outputs": [
        {
          "output_type": "stream",
          "name": "stdout",
          "text": [
            "The first row in the resulting record set:  ('XYZZY41616D616E6565736933363430',)\n"
          ]
        }
      ]
    },
    {
      "cell_type": "markdown",
      "source": [
        "# ***Assignment 4 is completed *** 😍\n"
      ],
      "metadata": {
        "id": "qTZVSRLoQp8Y"
      }
    },
    {
      "cell_type": "markdown",
      "source": [
        "## **-----------------------------------------------------------------------------------------------------------------**"
      ],
      "metadata": {
        "id": "5PbnFSE6RZg1"
      }
    },
    {
      "cell_type": "markdown",
      "source": [
        "## ***5rd week Examination***"
      ],
      "metadata": {
        "id": "obtgRGbgRbR3"
      }
    },
    {
      "cell_type": "code",
      "source": [
        ""
      ],
      "metadata": {
        "id": "GZMS0sYrQlmX"
      },
      "execution_count": null,
      "outputs": []
    }
  ]
}